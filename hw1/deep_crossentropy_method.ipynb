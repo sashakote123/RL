{
  "cells": [
    {
      "cell_type": "markdown",
      "metadata": {
        "id": "view-in-github",
        "colab_type": "text"
      },
      "source": [
        "<a href=\"https://colab.research.google.com/github/sashakote123/RL/blob/main/hw1/deep_crossentropy_method.ipynb\" target=\"_parent\"><img src=\"https://colab.research.google.com/assets/colab-badge.svg\" alt=\"Open In Colab\"/></a>"
      ]
    },
    {
      "cell_type": "markdown",
      "metadata": {
        "id": "I_i1q1TWG9zH"
      },
      "source": [
        "# Deep Crossentropy method\n",
        "\n",
        "In this section we'll extend your CEM implementation with neural networks! You will train a multi-layer neural network to solve simple continuous state space games. __Please make sure you're done with tabular crossentropy method from the previous notebook.__\n",
        "\n",
        "![img](https://watanimg.elwatannews.com/old_news_images/large/249765_Large_20140709045740_11.jpg)\n",
        "\n"
      ]
    },
    {
      "cell_type": "code",
      "execution_count": 1,
      "metadata": {
        "id": "t4CJ1sRyG9zJ",
        "colab": {
          "base_uri": "https://localhost:8080/"
        },
        "outputId": "8dbc8ab9-60d0-427f-f62b-1edcc04a3b57"
      },
      "outputs": [
        {
          "output_type": "stream",
          "name": "stdout",
          "text": [
            "^C\n",
            "bash: ../xvfb: No such file or directory\n"
          ]
        }
      ],
      "source": [
        "import sys, os\n",
        "if 'google.colab' in sys.modules and not os.path.exists('.setup_complete'):\n",
        "    !wget -q https://raw.githubusercontent.com/yandexdataschool/Practical_RL/master/setup_colab.sh -O- | bash\n",
        "    !touch .setup_complete\n",
        "\n",
        "# This code creates a virtual display to draw game images on.\n",
        "# It will have no effect if your machine has a monitor.\n",
        "if type(os.environ.get(\"DISPLAY\")) is not str or len(os.environ.get(\"DISPLAY\")) == 0:\n",
        "    !bash ../xvfb start\n",
        "    os.environ['DISPLAY'] = ':1'"
      ]
    },
    {
      "cell_type": "code",
      "execution_count": 2,
      "metadata": {
        "id": "C2xd5vPwPVCb",
        "colab": {
          "base_uri": "https://localhost:8080/"
        },
        "outputId": "faa61e40-309b-47e8-cbcd-c30fd188cdf3"
      },
      "outputs": [
        {
          "output_type": "stream",
          "name": "stdout",
          "text": [
            "Requirement already satisfied: gymnasium[classic_control,toy_text] in /usr/local/lib/python3.11/dist-packages (1.1.1)\n",
            "Requirement already satisfied: numpy>=1.21.0 in /usr/local/lib/python3.11/dist-packages (from gymnasium[classic_control,toy_text]) (2.0.2)\n",
            "Requirement already satisfied: cloudpickle>=1.2.0 in /usr/local/lib/python3.11/dist-packages (from gymnasium[classic_control,toy_text]) (3.1.1)\n",
            "Requirement already satisfied: typing-extensions>=4.3.0 in /usr/local/lib/python3.11/dist-packages (from gymnasium[classic_control,toy_text]) (4.13.2)\n",
            "Requirement already satisfied: farama-notifications>=0.0.1 in /usr/local/lib/python3.11/dist-packages (from gymnasium[classic_control,toy_text]) (0.0.4)\n",
            "Requirement already satisfied: pygame>=2.1.3 in /usr/local/lib/python3.11/dist-packages (from gymnasium[classic_control,toy_text]) (2.6.1)\n"
          ]
        }
      ],
      "source": [
        "# Install gymnasium if you didn't\n",
        "!pip install \"gymnasium[toy_text,classic_control]\""
      ]
    },
    {
      "cell_type": "code",
      "execution_count": 3,
      "metadata": {
        "id": "_2zbc7ahG9zK",
        "colab": {
          "base_uri": "https://localhost:8080/",
          "height": 465
        },
        "outputId": "e9fe4464-42a0-4a12-f2a4-0307bbb615aa"
      },
      "outputs": [
        {
          "output_type": "stream",
          "name": "stderr",
          "text": [
            "/usr/local/lib/python3.11/dist-packages/gymnasium/envs/registration.py:519: DeprecationWarning: \u001b[33mWARN: The environment CartPole-v0 is out of date. You should consider upgrading to version `v1`.\u001b[0m\n",
            "  logger.deprecation(\n"
          ]
        },
        {
          "output_type": "stream",
          "name": "stdout",
          "text": [
            "state vector dim = 4\n",
            "n_actions = 2\n"
          ]
        },
        {
          "output_type": "display_data",
          "data": {
            "text/plain": [
              "<Figure size 640x480 with 1 Axes>"
            ],
            "image/png": "[encoded data removed]"
          },
          "metadata": {}
        }
      ],
      "source": [
        "import gymnasium as gym\n",
        "import numpy as np\n",
        "import matplotlib.pyplot as plt\n",
        "%matplotlib inline\n",
        "\n",
        "# if you see \"<classname> has no attribute .env\", remove .env or update gym\n",
        "env = gym.make(\"CartPole-v0\", render_mode=\"rgb_array\").env\n",
        "\n",
        "env.reset()\n",
        "n_actions = env.action_space.n\n",
        "state_dim = env.observation_space.shape[0]\n",
        "\n",
        "plt.imshow(env.render())\n",
        "print(\"state vector dim =\", state_dim)\n",
        "print(\"n_actions =\", n_actions)\n",
        "\n",
        "env.close()"
      ]
    },
    {
      "cell_type": "markdown",
      "metadata": {
        "id": "Z72_alhdG9zK"
      },
      "source": [
        "# Neural Network Policy\n",
        "\n",
        "For this assignment we'll utilize the simplified neural network implementation from __[Scikit-learn](https://scikit-learn.org/stable/modules/generated/sklearn.neural_network.MLPClassifier.html)__. Here's what you'll need:\n",
        "\n",
        "* `agent.partial_fit(states, actions)` - make a single training pass over the data. Maximize the probability of :actions: from :states:\n",
        "* `agent.predict_proba(states)` - predict probabilities of all actions, a matrix of shape __[len(states), n_actions]__\n"
      ]
    },
    {
      "cell_type": "code",
      "execution_count": 4,
      "metadata": {
        "id": "wLItY4unG9zL",
        "colab": {
          "base_uri": "https://localhost:8080/",
          "height": 80
        },
        "outputId": "08d5e78b-7e42-4fad-d4b2-d57803c09fe1"
      },
      "outputs": [
        {
          "output_type": "execute_result",
          "data": {
            "text/plain": [
              "MLPClassifier(activation='tanh', hidden_layer_sizes=(20, 20))"
            ],
            "text/html": [
              "<style>#sk-container-id-1 {\n",
              "  /* Definition of color scheme common for light and dark mode */\n",
              "  --sklearn-color-text: #000;\n",
              "  --sklearn-color-text-muted: #666;\n",
              "  --sklearn-color-line: gray;\n",
              "  /* Definition of color scheme for unfitted estimators */\n",
              "  --sklearn-color-unfitted-level-0: #fff5e6;\n",
              "  --sklearn-color-unfitted-level-1: #f6e4d2;\n",
              "  --sklearn-color-unfitted-level-2: #ffe0b3;\n",
              "  --sklearn-color-unfitted-level-3: chocolate;\n",
              "  /* Definition of color scheme for fitted estimators */\n",
              "  --sklearn-color-fitted-level-0: #f0f8ff;\n",
              "  --sklearn-color-fitted-level-1: #d4ebff;\n",
              "  --sklearn-color-fitted-level-2: #b3dbfd;\n",
              "  --sklearn-color-fitted-level-3: cornflowerblue;\n",
              "\n",
              "  /* Specific color for light theme */\n",
              "  --sklearn-color-text-on-default-background: var(--sg-text-color, var(--theme-code-foreground, var(--jp-content-font-color1, black)));\n",
              "  --sklearn-color-background: var(--sg-background-color, var(--theme-background, var(--jp-layout-color0, white)));\n",
              "  --sklearn-color-border-box: var(--sg-text-color, var(--theme-code-foreground, var(--jp-content-font-color1, black)));\n",
              "  --sklearn-color-icon: #696969;\n",
              "\n",
              "  @media (prefers-color-scheme: dark) {\n",
              "    /* Redefinition of color scheme for dark theme */\n",
              "    --sklearn-color-text-on-default-background: var(--sg-text-color, var(--theme-code-foreground, var(--jp-content-font-color1, white)));\n",
              "    --sklearn-color-background: var(--sg-background-color, var(--theme-background, var(--jp-layout-color0, #111)));\n",
              "    --sklearn-color-border-box: var(--sg-text-color, var(--theme-code-foreground, var(--jp-content-font-color1, white)));\n",
              "    --sklearn-color-icon: #878787;\n",
              "  }\n",
              "}\n",
              "\n",
              "#sk-container-id-1 {\n",
              "  color: var(--sklearn-color-text);\n",
              "}\n",
              "\n",
              "#sk-container-id-1 pre {\n",
              "  padding: 0;\n",
              "}\n",
              "\n",
              "#sk-container-id-1 input.sk-hidden--visually {\n",
              "  border: 0;\n",
              "  clip: rect(1px 1px 1px 1px);\n",
              "  clip: rect(1px, 1px, 1px, 1px);\n",
              "  height: 1px;\n",
              "  margin: -1px;\n",
              "  overflow: hidden;\n",
              "  padding: 0;\n",
              "  position: absolute;\n",
              "  width: 1px;\n",
              "}\n",
              "\n",
              "#sk-container-id-1 div.sk-dashed-wrapped {\n",
              "  border: 1px dashed var(--sklearn-color-line);\n",
              "  margin: 0 0.4em 0.5em 0.4em;\n",
              "  box-sizing: border-box;\n",
              "  padding-bottom: 0.4em;\n",
              "  background-color: var(--sklearn-color-background);\n",
              "}\n",
              "\n",
              "#sk-container-id-1 div.sk-container {\n",
              "  /* jupyter's `normalize.less` sets `[hidden] { display: none; }`\n",
              "     but bootstrap.min.css set `[hidden] { display: none !important; }`\n",
              "     so we also need the `!important` here to be able to override the\n",
              "     default hidden behavior on the sphinx rendered scikit-learn.org.\n",
              "     See: https://github.com/scikit-learn/scikit-learn/issues/21755 */\n",
              "  display: inline-block !important;\n",
              "  position: relative;\n",
              "}\n",
              "\n",
              "#sk-container-id-1 div.sk-text-repr-fallback {\n",
              "  display: none;\n",
              "}\n",
              "\n",
              "div.sk-parallel-item,\n",
              "div.sk-serial,\n",
              "div.sk-item {\n",
              "  /* draw centered vertical line to link estimators */\n",
              "  background-image: linear-gradient(var(--sklearn-color-text-on-default-background), var(--sklearn-color-text-on-default-background));\n",
              "  background-size: 2px 100%;\n",
              "  background-repeat: no-repeat;\n",
              "  background-position: center center;\n",
              "}\n",
              "\n",
              "/* Parallel-specific style estimator block */\n",
              "\n",
              "#sk-container-id-1 div.sk-parallel-item::after {\n",
              "  content: \"\";\n",
              "  width: 100%;\n",
              "  border-bottom: 2px solid var(--sklearn-color-text-on-default-background);\n",
              "  flex-grow: 1;\n",
              "}\n",
              "\n",
              "#sk-container-id-1 div.sk-parallel {\n",
              "  display: flex;\n",
              "  align-items: stretch;\n",
              "  justify-content: center;\n",
              "  background-color: var(--sklearn-color-background);\n",
              "  position: relative;\n",
              "}\n",
              "\n",
              "#sk-container-id-1 div.sk-parallel-item {\n",
              "  display: flex;\n",
              "  flex-direction: column;\n",
              "}\n",
              "\n",
              "#sk-container-id-1 div.sk-parallel-item:first-child::after {\n",
              "  align-self: flex-end;\n",
              "  width: 50%;\n",
              "}\n",
              "\n",
              "#sk-container-id-1 div.sk-parallel-item:last-child::after {\n",
              "  align-self: flex-start;\n",
              "  width: 50%;\n",
              "}\n",
              "\n",
              "#sk-container-id-1 div.sk-parallel-item:only-child::after {\n",
              "  width: 0;\n",
              "}\n",
              "\n",
              "/* Serial-specific style estimator block */\n",
              "\n",
              "#sk-container-id-1 div.sk-serial {\n",
              "  display: flex;\n",
              "  flex-direction: column;\n",
              "  align-items: center;\n",
              "  background-color: var(--sklearn-color-background);\n",
              "  padding-right: 1em;\n",
              "  padding-left: 1em;\n",
              "}\n",
              "\n",
              "\n",
              "/* Toggleable style: style used for estimator/Pipeline/ColumnTransformer box that is\n",
              "clickable and can be expanded/collapsed.\n",
              "- Pipeline and ColumnTransformer use this feature and define the default style\n",
              "- Estimators will overwrite some part of the style using the `sk-estimator` class\n",
              "*/\n",
              "\n",
              "/* Pipeline and ColumnTransformer style (default) */\n",
              "\n",
              "#sk-container-id-1 div.sk-toggleable {\n",
              "  /* Default theme specific background. It is overwritten whether we have a\n",
              "  specific estimator or a Pipeline/ColumnTransformer */\n",
              "  background-color: var(--sklearn-color-background);\n",
              "}\n",
              "\n",
              "/* Toggleable label */\n",
              "#sk-container-id-1 label.sk-toggleable__label {\n",
              "  cursor: pointer;\n",
              "  display: flex;\n",
              "  width: 100%;\n",
              "  margin-bottom: 0;\n",
              "  padding: 0.5em;\n",
              "  box-sizing: border-box;\n",
              "  text-align: center;\n",
              "  align-items: start;\n",
              "  justify-content: space-between;\n",
              "  gap: 0.5em;\n",
              "}\n",
              "\n",
              "#sk-container-id-1 label.sk-toggleable__label .caption {\n",
              "  font-size: 0.6rem;\n",
              "  font-weight: lighter;\n",
              "  color: var(--sklearn-color-text-muted);\n",
              "}\n",
              "\n",
              "#sk-container-id-1 label.sk-toggleable__label-arrow:before {\n",
              "  /* Arrow on the left of the label */\n",
              "  content: \"▸\";\n",
              "  float: left;\n",
              "  margin-right: 0.25em;\n",
              "  color: var(--sklearn-color-icon);\n",
              "}\n",
              "\n",
              "#sk-container-id-1 label.sk-toggleable__label-arrow:hover:before {\n",
              "  color: var(--sklearn-color-text);\n",
              "}\n",
              "\n",
              "/* Toggleable content - dropdown */\n",
              "\n",
              "#sk-container-id-1 div.sk-toggleable__content {\n",
              "  max-height: 0;\n",
              "  max-width: 0;\n",
              "  overflow: hidden;\n",
              "  text-align: left;\n",
              "  /* unfitted */\n",
              "  background-color: var(--sklearn-color-unfitted-level-0);\n",
              "}\n",
              "\n",
              "#sk-container-id-1 div.sk-toggleable__content.fitted {\n",
              "  /* fitted */\n",
              "  background-color: var(--sklearn-color-fitted-level-0);\n",
              "}\n",
              "\n",
              "#sk-container-id-1 div.sk-toggleable__content pre {\n",
              "  margin: 0.2em;\n",
              "  border-radius: 0.25em;\n",
              "  color: var(--sklearn-color-text);\n",
              "  /* unfitted */\n",
              "  background-color: var(--sklearn-color-unfitted-level-0);\n",
              "}\n",
              "\n",
              "#sk-container-id-1 div.sk-toggleable__content.fitted pre {\n",
              "  /* unfitted */\n",
              "  background-color: var(--sklearn-color-fitted-level-0);\n",
              "}\n",
              "\n",
              "#sk-container-id-1 input.sk-toggleable__control:checked~div.sk-toggleable__content {\n",
              "  /* Expand drop-down */\n",
              "  max-height: 200px;\n",
              "  max-width: 100%;\n",
              "  overflow: auto;\n",
              "}\n",
              "\n",
              "#sk-container-id-1 input.sk-toggleable__control:checked~label.sk-toggleable__label-arrow:before {\n",
              "  content: \"▾\";\n",
              "}\n",
              "\n",
              "/* Pipeline/ColumnTransformer-specific style */\n",
              "\n",
              "#sk-container-id-1 div.sk-label input.sk-toggleable__control:checked~label.sk-toggleable__label {\n",
              "  color: var(--sklearn-color-text);\n",
              "  background-color: var(--sklearn-color-unfitted-level-2);\n",
              "}\n",
              "\n",
              "#sk-container-id-1 div.sk-label.fitted input.sk-toggleable__control:checked~label.sk-toggleable__label {\n",
              "  background-color: var(--sklearn-color-fitted-level-2);\n",
              "}\n",
              "\n",
              "/* Estimator-specific style */\n",
              "\n",
              "/* Colorize estimator box */\n",
              "#sk-container-id-1 div.sk-estimator input.sk-toggleable__control:checked~label.sk-toggleable__label {\n",
              "  /* unfitted */\n",
              "  background-color: var(--sklearn-color-unfitted-level-2);\n",
              "}\n",
              "\n",
              "#sk-container-id-1 div.sk-estimator.fitted input.sk-toggleable__control:checked~label.sk-toggleable__label {\n",
              "  /* fitted */\n",
              "  background-color: var(--sklearn-color-fitted-level-2);\n",
              "}\n",
              "\n",
              "#sk-container-id-1 div.sk-label label.sk-toggleable__label,\n",
              "#sk-container-id-1 div.sk-label label {\n",
              "  /* The background is the default theme color */\n",
              "  color: var(--sklearn-color-text-on-default-background);\n",
              "}\n",
              "\n",
              "/* On hover, darken the color of the background */\n",
              "#sk-container-id-1 div.sk-label:hover label.sk-toggleable__label {\n",
              "  color: var(--sklearn-color-text);\n",
              "  background-color: var(--sklearn-color-unfitted-level-2);\n",
              "}\n",
              "\n",
              "/* Label box, darken color on hover, fitted */\n",
              "#sk-container-id-1 div.sk-label.fitted:hover label.sk-toggleable__label.fitted {\n",
              "  color: var(--sklearn-color-text);\n",
              "  background-color: var(--sklearn-color-fitted-level-2);\n",
              "}\n",
              "\n",
              "/* Estimator label */\n",
              "\n",
              "#sk-container-id-1 div.sk-label label {\n",
              "  font-family: monospace;\n",
              "  font-weight: bold;\n",
              "  display: inline-block;\n",
              "  line-height: 1.2em;\n",
              "}\n",
              "\n",
              "#sk-container-id-1 div.sk-label-container {\n",
              "  text-align: center;\n",
              "}\n",
              "\n",
              "/* Estimator-specific */\n",
              "#sk-container-id-1 div.sk-estimator {\n",
              "  font-family: monospace;\n",
              "  border: 1px dotted var(--sklearn-color-border-box);\n",
              "  border-radius: 0.25em;\n",
              "  box-sizing: border-box;\n",
              "  margin-bottom: 0.5em;\n",
              "  /* unfitted */\n",
              "  background-color: var(--sklearn-color-unfitted-level-0);\n",
              "}\n",
              "\n",
              "#sk-container-id-1 div.sk-estimator.fitted {\n",
              "  /* fitted */\n",
              "  background-color: var(--sklearn-color-fitted-level-0);\n",
              "}\n",
              "\n",
              "/* on hover */\n",
              "#sk-container-id-1 div.sk-estimator:hover {\n",
              "  /* unfitted */\n",
              "  background-color: var(--sklearn-color-unfitted-level-2);\n",
              "}\n",
              "\n",
              "#sk-container-id-1 div.sk-estimator.fitted:hover {\n",
              "  /* fitted */\n",
              "  background-color: var(--sklearn-color-fitted-level-2);\n",
              "}\n",
              "\n",
              "/* Specification for estimator info (e.g. \"i\" and \"?\") */\n",
              "\n",
              "/* Common style for \"i\" and \"?\" */\n",
              "\n",
              ".sk-estimator-doc-link,\n",
              "a:link.sk-estimator-doc-link,\n",
              "a:visited.sk-estimator-doc-link {\n",
              "  float: right;\n",
              "  font-size: smaller;\n",
              "  line-height: 1em;\n",
              "  font-family: monospace;\n",
              "  background-color: var(--sklearn-color-background);\n",
              "  border-radius: 1em;\n",
              "  height: 1em;\n",
              "  width: 1em;\n",
              "  text-decoration: none !important;\n",
              "  margin-left: 0.5em;\n",
              "  text-align: center;\n",
              "  /* unfitted */\n",
              "  border: var(--sklearn-color-unfitted-level-1) 1pt solid;\n",
              "  color: var(--sklearn-color-unfitted-level-1);\n",
              "}\n",
              "\n",
              ".sk-estimator-doc-link.fitted,\n",
              "a:link.sk-estimator-doc-link.fitted,\n",
              "a:visited.sk-estimator-doc-link.fitted {\n",
              "  /* fitted */\n",
              "  border: var(--sklearn-color-fitted-level-1) 1pt solid;\n",
              "  color: var(--sklearn-color-fitted-level-1);\n",
              "}\n",
              "\n",
              "/* On hover */\n",
              "div.sk-estimator:hover .sk-estimator-doc-link:hover,\n",
              ".sk-estimator-doc-link:hover,\n",
              "div.sk-label-container:hover .sk-estimator-doc-link:hover,\n",
              ".sk-estimator-doc-link:hover {\n",
              "  /* unfitted */\n",
              "  background-color: var(--sklearn-color-unfitted-level-3);\n",
              "  color: var(--sklearn-color-background);\n",
              "  text-decoration: none;\n",
              "}\n",
              "\n",
              "div.sk-estimator.fitted:hover .sk-estimator-doc-link.fitted:hover,\n",
              ".sk-estimator-doc-link.fitted:hover,\n",
              "div.sk-label-container:hover .sk-estimator-doc-link.fitted:hover,\n",
              ".sk-estimator-doc-link.fitted:hover {\n",
              "  /* fitted */\n",
              "  background-color: var(--sklearn-color-fitted-level-3);\n",
              "  color: var(--sklearn-color-background);\n",
              "  text-decoration: none;\n",
              "}\n",
              "\n",
              "/* Span, style for the box shown on hovering the info icon */\n",
              ".sk-estimator-doc-link span {\n",
              "  display: none;\n",
              "  z-index: 9999;\n",
              "  position: relative;\n",
              "  font-weight: normal;\n",
              "  right: .2ex;\n",
              "  padding: .5ex;\n",
              "  margin: .5ex;\n",
              "  width: min-content;\n",
              "  min-width: 20ex;\n",
              "  max-width: 50ex;\n",
              "  color: var(--sklearn-color-text);\n",
              "  box-shadow: 2pt 2pt 4pt #999;\n",
              "  /* unfitted */\n",
              "  background: var(--sklearn-color-unfitted-level-0);\n",
              "  border: .5pt solid var(--sklearn-color-unfitted-level-3);\n",
              "}\n",
              "\n",
              ".sk-estimator-doc-link.fitted span {\n",
              "  /* fitted */\n",
              "  background: var(--sklearn-color-fitted-level-0);\n",
              "  border: var(--sklearn-color-fitted-level-3);\n",
              "}\n",
              "\n",
              ".sk-estimator-doc-link:hover span {\n",
              "  display: block;\n",
              "}\n",
              "\n",
              "/* \"?\"-specific style due to the `<a>` HTML tag */\n",
              "\n",
              "#sk-container-id-1 a.estimator_doc_link {\n",
              "  float: right;\n",
              "  font-size: 1rem;\n",
              "  line-height: 1em;\n",
              "  font-family: monospace;\n",
              "  background-color: var(--sklearn-color-background);\n",
              "  border-radius: 1rem;\n",
              "  height: 1rem;\n",
              "  width: 1rem;\n",
              "  text-decoration: none;\n",
              "  /* unfitted */\n",
              "  color: var(--sklearn-color-unfitted-level-1);\n",
              "  border: var(--sklearn-color-unfitted-level-1) 1pt solid;\n",
              "}\n",
              "\n",
              "#sk-container-id-1 a.estimator_doc_link.fitted {\n",
              "  /* fitted */\n",
              "  border: var(--sklearn-color-fitted-level-1) 1pt solid;\n",
              "  color: var(--sklearn-color-fitted-level-1);\n",
              "}\n",
              "\n",
              "/* On hover */\n",
              "#sk-container-id-1 a.estimator_doc_link:hover {\n",
              "  /* unfitted */\n",
              "  background-color: var(--sklearn-color-unfitted-level-3);\n",
              "  color: var(--sklearn-color-background);\n",
              "  text-decoration: none;\n",
              "}\n",
              "\n",
              "#sk-container-id-1 a.estimator_doc_link.fitted:hover {\n",
              "  /* fitted */\n",
              "  background-color: var(--sklearn-color-fitted-level-3);\n",
              "}\n",
              "</style><div id=\"sk-container-id-1\" class=\"sk-top-container\"><div class=\"sk-text-repr-fallback\"><pre>MLPClassifier(activation=&#x27;tanh&#x27;, hidden_layer_sizes=(20, 20))</pre><b>In a Jupyter environment, please rerun this cell to show the HTML representation or trust the notebook. <br />On GitHub, the HTML representation is unable to render, please try loading this page with nbviewer.org.</b></div><div class=\"sk-container\" hidden><div class=\"sk-item\"><div class=\"sk-estimator fitted sk-toggleable\"><input class=\"sk-toggleable__control sk-hidden--visually\" id=\"sk-estimator-id-1\" type=\"checkbox\" checked><label for=\"sk-estimator-id-1\" class=\"sk-toggleable__label fitted sk-toggleable__label-arrow\"><div><div>MLPClassifier</div></div><div><a class=\"sk-estimator-doc-link fitted\" rel=\"noreferrer\" target=\"_blank\" href=\"https://scikit-learn.org/1.6/modules/generated/sklearn.neural_network.MLPClassifier.html\">?<span>Documentation for MLPClassifier</span></a><span class=\"sk-estimator-doc-link fitted\">i<span>Fitted</span></span></div></label><div class=\"sk-toggleable__content fitted\"><pre>MLPClassifier(activation=&#x27;tanh&#x27;, hidden_layer_sizes=(20, 20))</pre></div> </div></div></div></div>"
            ]
          },
          "metadata": {},
          "execution_count": 4
        }
      ],
      "source": [
        "from sklearn.neural_network import MLPClassifier\n",
        "\n",
        "agent = MLPClassifier(\n",
        "    hidden_layer_sizes=(20, 20),\n",
        "    activation=\"tanh\",\n",
        ")\n",
        "\n",
        "# initialize agent to the dimension of state space and number of actions\n",
        "agent.partial_fit([env.reset()[0]] * n_actions, range(n_actions), range(n_actions))\n"
      ]
    },
    {
      "cell_type": "code",
      "execution_count": 5,
      "metadata": {
        "id": "eyFS3oUmG9zL"
      },
      "outputs": [],
      "source": [
        "def generate_session(env, agent, t_max=1000):\n",
        "    \"\"\"\n",
        "    Play a single game using agent neural network.\n",
        "    Terminate when game finishes or after :t_max: steps\n",
        "    \"\"\"\n",
        "    states, actions = [], []\n",
        "    total_reward = 0\n",
        "\n",
        "    s, _ = env.reset()\n",
        "\n",
        "    for t in range(t_max):\n",
        "\n",
        "        # use agent to predict a vector of action probabilities for state :s:\n",
        "        probs = agent.predict_proba([s])[0]\n",
        "\n",
        "        assert probs.shape == (env.action_space.n,), \"make sure probabilities are a vector (hint: np.reshape)\"\n",
        "\n",
        "        # use the probabilities you predicted to pick an action\n",
        "        # sample proportionally to the probabilities, don't just take the most likely action\n",
        "        a = np.random.choice(env.action_space.n, p=probs)\n",
        "        # ^-- hint: try np.random.choice\n",
        "\n",
        "        new_s, r, terminated, truncated, _ = env.step(a)\n",
        "\n",
        "        # record sessions like you did before\n",
        "        states.append(s)\n",
        "        actions.append(a)\n",
        "        total_reward += r\n",
        "\n",
        "        s = new_s\n",
        "        if terminated or truncated:\n",
        "            break\n",
        "    return states, actions, total_reward\n"
      ]
    },
    {
      "cell_type": "code",
      "execution_count": 6,
      "metadata": {
        "id": "4xgrTCgJG9zL",
        "colab": {
          "base_uri": "https://localhost:8080/"
        },
        "outputId": "105b03e3-dda2-4b1f-fd6b-65cc23195bf8"
      },
      "outputs": [
        {
          "output_type": "stream",
          "name": "stdout",
          "text": [
            "states: [[-1.6250981e-02  4.1977074e-02  1.7331669e-02  1.2299862e-02]\n",
            " [-1.5411439e-02  2.3684624e-01  1.7577667e-02 -2.7486473e-01]\n",
            " [-1.0674515e-02  4.3171304e-01  1.2080371e-02 -5.6195223e-01]\n",
            " [-2.0402537e-03  6.2666339e-01  8.4132771e-04 -8.5080487e-01]\n",
            " [ 1.0493014e-02  4.3152997e-01 -1.6174769e-02 -5.5785751e-01]]\n",
            "actions: [1, 1, 1, 0, 0]\n",
            "reward: 5.0\n"
          ]
        }
      ],
      "source": [
        "dummy_states, dummy_actions, dummy_reward = generate_session(env, agent, t_max=5)\n",
        "print(\"states:\", np.stack(dummy_states))\n",
        "print(\"actions:\", dummy_actions)\n",
        "print(\"reward:\", dummy_reward)\n"
      ]
    },
    {
      "cell_type": "markdown",
      "metadata": {
        "id": "p85lt16qG9zL"
      },
      "source": [
        "### CEM steps\n",
        "Deep CEM uses exactly the same strategy as the regular CEM, so you can copy your function code from previous notebook.\n",
        "\n",
        "The only difference is that now each observation is not a number but a `float32` vector."
      ]
    },
    {
      "cell_type": "code",
      "execution_count": 7,
      "metadata": {
        "id": "4On-p7p4G9zL"
      },
      "outputs": [],
      "source": [
        "def select_elites(states_batch, actions_batch, rewards_batch, percentile=50):\n",
        "    \"\"\"\n",
        "    Select states and actions from games that have rewards >= percentile\n",
        "    :param states_batch: list of lists of states, states_batch[session_i][t]\n",
        "    :param actions_batch: list of lists of actions, actions_batch[session_i][t]\n",
        "    :param rewards_batch: list of rewards, rewards_batch[session_i]\n",
        "\n",
        "    :returns: elite_states,elite_actions, both 1D lists of states and respective actions from elite sessions\n",
        "\n",
        "    Please return elite states and actions in their original order\n",
        "    [i.e. sorted by session number and timestep within session]\n",
        "\n",
        "    If you are confused, see examples below. Please don't assume that states are integers\n",
        "    (they will become different later).\n",
        "    \"\"\"\n",
        "\n",
        "    threshold = np.percentile(rewards_batch, percentile)\n",
        "\n",
        "    states = []\n",
        "    actions = []\n",
        "\n",
        "    for session_idx in range(len(states_batch)):\n",
        "        if rewards_batch[session_idx] >= threshold:\n",
        "            states.extend(states_batch[session_idx])\n",
        "            actions.extend(actions_batch[session_idx])\n",
        "\n",
        "    return states, actions\n"
      ]
    },
    {
      "cell_type": "markdown",
      "metadata": {
        "id": "xc40V4DaG9zM"
      },
      "source": [
        "# Training loop\n",
        "Generate sessions, select N best and fit to those."
      ]
    },
    {
      "cell_type": "code",
      "execution_count": 8,
      "metadata": {
        "id": "PPwVKwF7G9zM"
      },
      "outputs": [],
      "source": [
        "from IPython.display import clear_output\n",
        "\n",
        "\n",
        "def show_progress(rewards_batch, log, percentile, reward_range=[-990, +10]):\n",
        "    \"\"\"\n",
        "    A convenience function that displays training progress.\n",
        "    No cool math here, just charts.\n",
        "    \"\"\"\n",
        "\n",
        "    mean_reward = np.mean(rewards_batch)\n",
        "    threshold = np.percentile(rewards_batch, percentile)\n",
        "    log.append([mean_reward, threshold])\n",
        "\n",
        "    clear_output(True)\n",
        "    print(\"mean reward = %.3f, threshold=%.3f\" % (mean_reward, threshold))\n",
        "    plt.figure(figsize=[8, 4])\n",
        "    plt.subplot(1, 2, 1)\n",
        "    plt.plot(list(zip(*log))[0], label=\"Mean rewards\")\n",
        "    plt.plot(list(zip(*log))[1], label=\"Reward thresholds\")\n",
        "    plt.legend()\n",
        "    plt.grid()\n",
        "\n",
        "    plt.subplot(1, 2, 2)\n",
        "    plt.hist(rewards_batch, range=reward_range)\n",
        "    plt.vlines(\n",
        "        [np.percentile(rewards_batch, percentile)],\n",
        "        [0],\n",
        "        [100],\n",
        "        label=\"percentile\",\n",
        "        color=\"red\",\n",
        "    )\n",
        "    plt.legend()\n",
        "    plt.grid()\n",
        "\n",
        "    plt.show()\n"
      ]
    },
    {
      "cell_type": "code",
      "execution_count": 11,
      "metadata": {
        "id": "euK7WRQiG9zM",
        "colab": {
          "base_uri": "https://localhost:8080/",
          "height": 742
        },
        "outputId": "402979b3-8c2b-42e2-c238-4d9505d376e8"
      },
      "outputs": [
        {
          "output_type": "stream",
          "name": "stdout",
          "text": [
            "mean reward = 984.610, threshold=1000.000\n"
          ]
        },
        {
          "output_type": "display_data",
          "data": {
            "text/plain": [
              "<Figure size 800x400 with 2 Axes>"
            ],
            "image/png": "[encoded data removed]"
          },
          "metadata": {}
        },
        {
          "output_type": "stream",
          "name": "stdout",
          "text": [
            "You Win! You may stop training now via KeyboardInterrupt.\n"
          ]
        },
        {
          "output_type": "error",
          "ename": "KeyboardInterrupt",
          "evalue": "",
          "traceback": [
            "\u001b[0;31m---------------------------------------------------------------------------\u001b[0m",
            "\u001b[0;31mKeyboardInterrupt\u001b[0m                         Traceback (most recent call last)",
            "\u001b[0;32m<ipython-input-11-e0830438d3a7>\u001b[0m in \u001b[0;36m<cell line: 0>\u001b[0;34m()\u001b[0m\n\u001b[1;32m      5\u001b[0m \u001b[0;32mfor\u001b[0m \u001b[0mi\u001b[0m \u001b[0;32min\u001b[0m \u001b[0mrange\u001b[0m\u001b[0;34m(\u001b[0m\u001b[0;36m100\u001b[0m\u001b[0;34m)\u001b[0m\u001b[0;34m:\u001b[0m\u001b[0;34m\u001b[0m\u001b[0;34m\u001b[0m\u001b[0m\n\u001b[1;32m      6\u001b[0m     \u001b[0;31m# generate new sessions\u001b[0m\u001b[0;34m\u001b[0m\u001b[0;34m\u001b[0m\u001b[0m\n\u001b[0;32m----> 7\u001b[0;31m     \u001b[0msessions\u001b[0m \u001b[0;34m=\u001b[0m \u001b[0;34m[\u001b[0m\u001b[0mgenerate_session\u001b[0m\u001b[0;34m(\u001b[0m\u001b[0menv\u001b[0m\u001b[0;34m,\u001b[0m \u001b[0magent\u001b[0m\u001b[0;34m)\u001b[0m \u001b[0;32mfor\u001b[0m \u001b[0m_\u001b[0m \u001b[0;32min\u001b[0m \u001b[0mrange\u001b[0m\u001b[0;34m(\u001b[0m\u001b[0mn_sessions\u001b[0m\u001b[0;34m)\u001b[0m\u001b[0;34m]\u001b[0m\u001b[0;34m\u001b[0m\u001b[0;34m\u001b[0m\u001b[0m\n\u001b[0m\u001b[1;32m      8\u001b[0m \u001b[0;34m\u001b[0m\u001b[0m\n\u001b[1;32m      9\u001b[0m     \u001b[0mstates_batch\u001b[0m\u001b[0;34m,\u001b[0m \u001b[0mactions_batch\u001b[0m\u001b[0;34m,\u001b[0m \u001b[0mrewards_batch\u001b[0m \u001b[0;34m=\u001b[0m \u001b[0mmap\u001b[0m\u001b[0;34m(\u001b[0m\u001b[0mlist\u001b[0m\u001b[0;34m,\u001b[0m \u001b[0mzip\u001b[0m\u001b[0;34m(\u001b[0m\u001b[0;34m*\u001b[0m\u001b[0msessions\u001b[0m\u001b[0;34m)\u001b[0m\u001b[0;34m)\u001b[0m\u001b[0;34m\u001b[0m\u001b[0;34m\u001b[0m\u001b[0m\n",
            "\u001b[0;32m<ipython-input-11-e0830438d3a7>\u001b[0m in \u001b[0;36m<listcomp>\u001b[0;34m(.0)\u001b[0m\n\u001b[1;32m      5\u001b[0m \u001b[0;32mfor\u001b[0m \u001b[0mi\u001b[0m \u001b[0;32min\u001b[0m \u001b[0mrange\u001b[0m\u001b[0;34m(\u001b[0m\u001b[0;36m100\u001b[0m\u001b[0;34m)\u001b[0m\u001b[0;34m:\u001b[0m\u001b[0;34m\u001b[0m\u001b[0;34m\u001b[0m\u001b[0m\n\u001b[1;32m      6\u001b[0m     \u001b[0;31m# generate new sessions\u001b[0m\u001b[0;34m\u001b[0m\u001b[0;34m\u001b[0m\u001b[0m\n\u001b[0;32m----> 7\u001b[0;31m     \u001b[0msessions\u001b[0m \u001b[0;34m=\u001b[0m \u001b[0;34m[\u001b[0m\u001b[0mgenerate_session\u001b[0m\u001b[0;34m(\u001b[0m\u001b[0menv\u001b[0m\u001b[0;34m,\u001b[0m \u001b[0magent\u001b[0m\u001b[0;34m)\u001b[0m \u001b[0;32mfor\u001b[0m \u001b[0m_\u001b[0m \u001b[0;32min\u001b[0m \u001b[0mrange\u001b[0m\u001b[0;34m(\u001b[0m\u001b[0mn_sessions\u001b[0m\u001b[0;34m)\u001b[0m\u001b[0;34m]\u001b[0m\u001b[0;34m\u001b[0m\u001b[0;34m\u001b[0m\u001b[0m\n\u001b[0m\u001b[1;32m      8\u001b[0m \u001b[0;34m\u001b[0m\u001b[0m\n\u001b[1;32m      9\u001b[0m     \u001b[0mstates_batch\u001b[0m\u001b[0;34m,\u001b[0m \u001b[0mactions_batch\u001b[0m\u001b[0;34m,\u001b[0m \u001b[0mrewards_batch\u001b[0m \u001b[0;34m=\u001b[0m \u001b[0mmap\u001b[0m\u001b[0;34m(\u001b[0m\u001b[0mlist\u001b[0m\u001b[0;34m,\u001b[0m \u001b[0mzip\u001b[0m\u001b[0;34m(\u001b[0m\u001b[0;34m*\u001b[0m\u001b[0msessions\u001b[0m\u001b[0;34m)\u001b[0m\u001b[0;34m)\u001b[0m\u001b[0;34m\u001b[0m\u001b[0;34m\u001b[0m\u001b[0m\n",
            "\u001b[0;32m<ipython-input-5-53586d810186>\u001b[0m in \u001b[0;36mgenerate_session\u001b[0;34m(env, agent, t_max)\u001b[0m\n\u001b[1;32m     12\u001b[0m \u001b[0;34m\u001b[0m\u001b[0m\n\u001b[1;32m     13\u001b[0m         \u001b[0;31m# use agent to predict a vector of action probabilities for state :s:\u001b[0m\u001b[0;34m\u001b[0m\u001b[0;34m\u001b[0m\u001b[0m\n\u001b[0;32m---> 14\u001b[0;31m         \u001b[0mprobs\u001b[0m \u001b[0;34m=\u001b[0m \u001b[0magent\u001b[0m\u001b[0;34m.\u001b[0m\u001b[0mpredict_proba\u001b[0m\u001b[0;34m(\u001b[0m\u001b[0;34m[\u001b[0m\u001b[0ms\u001b[0m\u001b[0;34m]\u001b[0m\u001b[0;34m)\u001b[0m\u001b[0;34m[\u001b[0m\u001b[0;36m0\u001b[0m\u001b[0;34m]\u001b[0m\u001b[0;34m\u001b[0m\u001b[0;34m\u001b[0m\u001b[0m\n\u001b[0m\u001b[1;32m     15\u001b[0m \u001b[0;34m\u001b[0m\u001b[0m\n\u001b[1;32m     16\u001b[0m         \u001b[0;32massert\u001b[0m \u001b[0mprobs\u001b[0m\u001b[0;34m.\u001b[0m\u001b[0mshape\u001b[0m \u001b[0;34m==\u001b[0m \u001b[0;34m(\u001b[0m\u001b[0menv\u001b[0m\u001b[0;34m.\u001b[0m\u001b[0maction_space\u001b[0m\u001b[0;34m.\u001b[0m\u001b[0mn\u001b[0m\u001b[0;34m,\u001b[0m\u001b[0;34m)\u001b[0m\u001b[0;34m,\u001b[0m \u001b[0;34m\"make sure probabilities are a vector (hint: np.reshape)\"\u001b[0m\u001b[0;34m\u001b[0m\u001b[0;34m\u001b[0m\u001b[0m\n",
            "\u001b[0;32m/usr/local/lib/python3.11/dist-packages/sklearn/neural_network/_multilayer_perceptron.py\u001b[0m in \u001b[0;36mpredict_proba\u001b[0;34m(self, X)\u001b[0m\n\u001b[1;32m   1261\u001b[0m             \u001b[0mmodel\u001b[0m\u001b[0;34m,\u001b[0m \u001b[0mwhere\u001b[0m \u001b[0mclasses\u001b[0m \u001b[0mare\u001b[0m \u001b[0mordered\u001b[0m \u001b[0;32mas\u001b[0m \u001b[0mthey\u001b[0m \u001b[0mare\u001b[0m \u001b[0;32min\u001b[0m\u001b[0;31m \u001b[0m\u001b[0;31m`\u001b[0m\u001b[0mself\u001b[0m\u001b[0;34m.\u001b[0m\u001b[0mclasses_\u001b[0m\u001b[0;31m`\u001b[0m\u001b[0;34m.\u001b[0m\u001b[0;34m\u001b[0m\u001b[0;34m\u001b[0m\u001b[0m\n\u001b[1;32m   1262\u001b[0m         \"\"\"\n\u001b[0;32m-> 1263\u001b[0;31m         \u001b[0mcheck_is_fitted\u001b[0m\u001b[0;34m(\u001b[0m\u001b[0mself\u001b[0m\u001b[0;34m)\u001b[0m\u001b[0;34m\u001b[0m\u001b[0;34m\u001b[0m\u001b[0m\n\u001b[0m\u001b[1;32m   1264\u001b[0m         \u001b[0my_pred\u001b[0m \u001b[0;34m=\u001b[0m \u001b[0mself\u001b[0m\u001b[0;34m.\u001b[0m\u001b[0m_forward_pass_fast\u001b[0m\u001b[0;34m(\u001b[0m\u001b[0mX\u001b[0m\u001b[0;34m)\u001b[0m\u001b[0;34m\u001b[0m\u001b[0;34m\u001b[0m\u001b[0m\n\u001b[1;32m   1265\u001b[0m \u001b[0;34m\u001b[0m\u001b[0m\n",
            "\u001b[0;32m/usr/local/lib/python3.11/dist-packages/sklearn/utils/validation.py\u001b[0m in \u001b[0;36mcheck_is_fitted\u001b[0;34m(estimator, attributes, msg, all_or_any)\u001b[0m\n\u001b[1;32m   1749\u001b[0m         \u001b[0;32mraise\u001b[0m \u001b[0mTypeError\u001b[0m\u001b[0;34m(\u001b[0m\u001b[0;34m\"%s is not an estimator instance.\"\u001b[0m \u001b[0;34m%\u001b[0m \u001b[0;34m(\u001b[0m\u001b[0mestimator\u001b[0m\u001b[0;34m)\u001b[0m\u001b[0;34m)\u001b[0m\u001b[0;34m\u001b[0m\u001b[0;34m\u001b[0m\u001b[0m\n\u001b[1;32m   1750\u001b[0m \u001b[0;34m\u001b[0m\u001b[0m\n\u001b[0;32m-> 1751\u001b[0;31m     \u001b[0mtags\u001b[0m \u001b[0;34m=\u001b[0m \u001b[0mget_tags\u001b[0m\u001b[0;34m(\u001b[0m\u001b[0mestimator\u001b[0m\u001b[0;34m)\u001b[0m\u001b[0;34m\u001b[0m\u001b[0;34m\u001b[0m\u001b[0m\n\u001b[0m\u001b[1;32m   1752\u001b[0m \u001b[0;34m\u001b[0m\u001b[0m\n\u001b[1;32m   1753\u001b[0m     \u001b[0;32mif\u001b[0m \u001b[0;32mnot\u001b[0m \u001b[0mtags\u001b[0m\u001b[0;34m.\u001b[0m\u001b[0mrequires_fit\u001b[0m \u001b[0;32mand\u001b[0m \u001b[0mattributes\u001b[0m \u001b[0;32mis\u001b[0m \u001b[0;32mNone\u001b[0m\u001b[0;34m:\u001b[0m\u001b[0;34m\u001b[0m\u001b[0;34m\u001b[0m\u001b[0m\n",
            "\u001b[0;32m/usr/local/lib/python3.11/dist-packages/sklearn/utils/_tags.py\u001b[0m in \u001b[0;36mget_tags\u001b[0;34m(estimator)\u001b[0m\n\u001b[1;32m    391\u001b[0m     \"\"\"\n\u001b[1;32m    392\u001b[0m \u001b[0;34m\u001b[0m\u001b[0m\n\u001b[0;32m--> 393\u001b[0;31m     \u001b[0mtag_provider\u001b[0m \u001b[0;34m=\u001b[0m \u001b[0m_find_tags_provider\u001b[0m\u001b[0;34m(\u001b[0m\u001b[0mestimator\u001b[0m\u001b[0;34m)\u001b[0m\u001b[0;34m\u001b[0m\u001b[0;34m\u001b[0m\u001b[0m\n\u001b[0m\u001b[1;32m    394\u001b[0m \u001b[0;34m\u001b[0m\u001b[0m\n\u001b[1;32m    395\u001b[0m     \u001b[0;32mif\u001b[0m \u001b[0mtag_provider\u001b[0m \u001b[0;34m==\u001b[0m \u001b[0;34m\"__sklearn_tags__\"\u001b[0m\u001b[0;34m:\u001b[0m\u001b[0;34m\u001b[0m\u001b[0;34m\u001b[0m\u001b[0m\n",
            "\u001b[0;32m/usr/local/lib/python3.11/dist-packages/sklearn/utils/_tags.py\u001b[0m in \u001b[0;36m_find_tags_provider\u001b[0;34m(estimator, warn)\u001b[0m\n\u001b[1;32m    325\u001b[0m         \u001b[0;32mif\u001b[0m \u001b[0;34m\"_more_tags\"\u001b[0m \u001b[0;32min\u001b[0m \u001b[0mvars\u001b[0m\u001b[0;34m(\u001b[0m\u001b[0mklass\u001b[0m\u001b[0;34m)\u001b[0m\u001b[0;34m:\u001b[0m\u001b[0;34m\u001b[0m\u001b[0;34m\u001b[0m\u001b[0m\n\u001b[1;32m    326\u001b[0m             \u001b[0mtags_provider\u001b[0m\u001b[0;34m.\u001b[0m\u001b[0mappend\u001b[0m\u001b[0;34m(\u001b[0m\u001b[0;34m\"_more_tags\"\u001b[0m\u001b[0;34m)\u001b[0m\u001b[0;34m\u001b[0m\u001b[0;34m\u001b[0m\u001b[0m\n\u001b[0;32m--> 327\u001b[0;31m         \u001b[0;32mif\u001b[0m \u001b[0;34m\"_get_tags\"\u001b[0m \u001b[0;32min\u001b[0m \u001b[0mvars\u001b[0m\u001b[0;34m(\u001b[0m\u001b[0mklass\u001b[0m\u001b[0;34m)\u001b[0m\u001b[0;34m:\u001b[0m\u001b[0;34m\u001b[0m\u001b[0;34m\u001b[0m\u001b[0m\n\u001b[0m\u001b[1;32m    328\u001b[0m             \u001b[0mtags_provider\u001b[0m\u001b[0;34m.\u001b[0m\u001b[0mappend\u001b[0m\u001b[0;34m(\u001b[0m\u001b[0;34m\"_get_tags\"\u001b[0m\u001b[0;34m)\u001b[0m\u001b[0;34m\u001b[0m\u001b[0;34m\u001b[0m\u001b[0m\n\u001b[1;32m    329\u001b[0m         \u001b[0;32mif\u001b[0m \u001b[0;34m\"__sklearn_tags__\"\u001b[0m \u001b[0;32min\u001b[0m \u001b[0mvars\u001b[0m\u001b[0;34m(\u001b[0m\u001b[0mklass\u001b[0m\u001b[0;34m)\u001b[0m\u001b[0;34m:\u001b[0m\u001b[0;34m\u001b[0m\u001b[0;34m\u001b[0m\u001b[0m\n",
            "\u001b[0;31mKeyboardInterrupt\u001b[0m: "
          ]
        }
      ],
      "source": [
        "n_sessions = 100\n",
        "percentile = 70\n",
        "log = []\n",
        "\n",
        "for i in range(100):\n",
        "    # generate new sessions\n",
        "    sessions = [generate_session(env, agent) for _ in range(n_sessions)]\n",
        "\n",
        "    states_batch, actions_batch, rewards_batch = map(list, zip(*sessions))\n",
        "\n",
        "    elite_states, elite_actions = select_elites(states_batch, actions_batch, rewards_batch, percentile)\n",
        "\n",
        "\n",
        "    if len(elite_states) > 0:\n",
        "        agent.partial_fit(elite_states, elite_actions)\n",
        "\n",
        "    #agent.partial_fit(elite_states, elite_actions)\n",
        "\n",
        "\n",
        "    show_progress(\n",
        "        rewards_batch, log, percentile, reward_range=[0, np.max(rewards_batch)]\n",
        "    )\n",
        "\n",
        "    if np.mean(rewards_batch) > 190:\n",
        "        print(\"You Win! You may stop training now via KeyboardInterrupt.\")\n"
      ]
    },
    {
      "cell_type": "markdown",
      "metadata": {
        "id": "yeNWKjtsG9zM"
      },
      "source": [
        "# Results"
      ]
    },
    {
      "cell_type": "code",
      "execution_count": 12,
      "metadata": {
        "id": "RJwsWl4kG9zM",
        "colab": {
          "base_uri": "https://localhost:8080/"
        },
        "outputId": "9ec194f5-10c2-4244-a125-204c2d6fcc8f"
      },
      "outputs": [
        {
          "output_type": "stream",
          "name": "stderr",
          "text": [
            "/usr/local/lib/python3.11/dist-packages/gymnasium/envs/registration.py:519: DeprecationWarning: \u001b[33mWARN: The environment CartPole-v0 is out of date. You should consider upgrading to version `v1`.\u001b[0m\n",
            "  logger.deprecation(\n"
          ]
        }
      ],
      "source": [
        "# Record sessions\n",
        "\n",
        "from gymnasium.wrappers import RecordVideo\n",
        "\n",
        "with RecordVideo(\n",
        "    env=gym.make(\"CartPole-v0\", render_mode=\"rgb_array\"),\n",
        "    video_folder=\"./videos\",\n",
        "    episode_trigger=lambda episode_number: True,\n",
        ") as env_monitor:\n",
        "    sessions = [generate_session(env_monitor, agent) for _ in range(100)]\n"
      ]
    },
    {
      "cell_type": "code",
      "execution_count": 13,
      "metadata": {
        "id": "kLPXdME7G9zN",
        "colab": {
          "base_uri": "https://localhost:8080/",
          "height": 501
        },
        "outputId": "1c5db41d-cc55-447f-b9a4-7efe5890b89c"
      },
      "outputs": [
        {
          "output_type": "execute_result",
          "data": {
            "text/plain": [
              "<IPython.core.display.HTML object>"
            ],
            "text/html": [
              "\n",
              "<video width=\"640\" height=\"480\" controls>\n",
              "  <source src=\"data:video/mp4;base64,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\" type=\"video/mp4\">\n",
              "</video>\n"
            ]
          },
          "metadata": {},
          "execution_count": 13
        }
      ],
      "source": [
        "# Show video. This may not work in some setups. If it doesn't\n",
        "# work for you, you can download the videos and view them locally.\n",
        "\n",
        "from pathlib import Path\n",
        "from base64 import b64encode\n",
        "from IPython.display import HTML\n",
        "\n",
        "video_paths = sorted([s for s in Path(\"videos\").iterdir() if s.suffix == \".mp4\"])\n",
        "video_path = video_paths[-1]  # You can also try other indices\n",
        "\n",
        "if \"google.colab\" in sys.modules:\n",
        "    # https://stackoverflow.com/a/57378660/1214547\n",
        "    with video_path.open(\"rb\") as fp:\n",
        "        mp4 = fp.read()\n",
        "    data_url = \"data:video/mp4;base64,\" + b64encode(mp4).decode()\n",
        "else:\n",
        "    data_url = str(video_path)\n",
        "\n",
        "HTML(\n",
        "    \"\"\"\n",
        "<video width=\"640\" height=\"480\" controls>\n",
        "  <source src=\"{}\" type=\"video/mp4\">\n",
        "</video>\n",
        "\"\"\".format(\n",
        "        data_url\n",
        "    )\n",
        ")\n"
      ]
    },
    {
      "cell_type": "markdown",
      "metadata": {
        "id": "6d_3oOQ1G9zN"
      },
      "source": [
        "# Homework part I\n",
        "\n",
        "### Tabular crossentropy method\n",
        "\n",
        "You may have noticed that the taxi problem quickly converges from -100 to a near-optimal score and then descends back into -50/-100. This is in part because the environment has some innate randomness. Namely, the starting points of passenger/driver change from episode to episode.\n",
        "\n",
        "### Tasks\n",
        "- __1.1__ (2 pts) Find out how the algorithm performance changes if you use a different `percentile` and/or `n_sessions`. Provide here some figures so we can see how the hyperparameters influence the performance.\n",
        "- __1.2__ (1 pts) Tune the algorithm to end up with positive average score.\n",
        "\n",
        "It's okay to modify the existing code.\n"
      ]
    },
    {
      "cell_type": "markdown",
      "metadata": {
        "id": "L88LySiVG9zN"
      },
      "source": [
        "```<Describe what you did here>```"
      ]
    },
    {
      "cell_type": "markdown",
      "metadata": {
        "id": "7LpAJc4rG9zN"
      },
      "source": [
        "# Homework part II\n",
        "\n",
        "### Deep crossentropy method\n",
        "\n",
        "By this moment, you should have got enough score on [CartPole-v0](https://gymnasium.farama.org/environments/classic_control/cart_pole/) to consider it solved (see the link). It's time to try something harder.\n",
        "\n",
        "* if you have any trouble with CartPole-v0 and feel stuck, feel free to ask us or your peers for help.\n",
        "\n",
        "### Tasks\n",
        "\n",
        "* __2.1__ (3 pts) Pick one of environments: `MountainCar-v0` or `LunarLander-v2`.\n",
        "  * For MountainCar, get average reward of __at least -150__\n",
        "  * For LunarLander, get average reward of __at least +50__\n",
        "\n",
        "See the tips section below, it's kinda important.\n",
        "__Note:__ If your agent is below the target score, you'll still get some of the points depending on the result, so don't be afraid to submit it.\n",
        "  \n",
        "  \n",
        "* __2.2__ (up to 6 pts) Devise a way to speed up training against the default version\n",
        "  * Obvious improvement: use [`joblib`](https://joblib.readthedocs.io/en/latest/). However, note that you will probably need to spawn a new environment in each of the workers instead of passing it via pickling. (2 pts)\n",
        "  * Try re-using samples from 3-5 last iterations when computing threshold and training. (2 pts)\n",
        "  * Obtain __-100__ at `MountainCar-v0` or __+200__ at `LunarLander-v2` (2 pts). Feel free to experiment with hyperparameters, architectures, schedules etc.\n",
        "  \n",
        "__Please list what you did in Anytask submission form__. This reduces probability that somebody misses something.\n",
        "  \n",
        "  \n",
        "### Tips\n",
        "* Gymnasium pages: [MountainCar](https://gymnasium.farama.org/environments/classic_control/mountain_car/), [LunarLander](https://gymnasium.farama.org/environments/box2d/lunar_lander/)\n",
        "* Sessions for MountainCar may last for 10k+ ticks. Make sure ```t_max``` param is at least 10k.\n",
        " * Also it may be a good idea to cut rewards via \">\" and not \">=\". If 90% of your sessions get reward of -10k and 10% are better, than if you use percentile 20% as threshold, R >= threshold __fails to cut off bad sessions__ while R > threshold works alright.\n",
        "* _issue with gym_: Some versions of gym limit game time by 200 ticks. This will prevent cem training in most cases. Make sure your agent is able to play for the specified __t_max__, and if it isn't, try `env = gym.make(\"MountainCar-v0\").env` or otherwise get rid of TimeLimit wrapper.\n",
        "* If you use old _swig_ lib for LunarLander-v2, you may get an error. See this [issue](https://github.com/openai/gym/issues/100) for solution.\n",
        "* If it doesn't train, it's a good idea to plot reward distribution and record sessions: they may give you some clue. If they don't, call course staff :)\n",
        "* 20-neuron network is probably not enough, feel free to experiment.\n",
        "\n",
        "You may find the following snippet useful:"
      ]
    },
    {
      "cell_type": "code",
      "execution_count": 14,
      "metadata": {
        "id": "qcjz-nm_G9zN",
        "colab": {
          "base_uri": "https://localhost:8080/",
          "height": 332
        },
        "outputId": "91b5595d-4969-41ba-c706-6d36dcc6859e"
      },
      "outputs": [
        {
          "output_type": "stream",
          "name": "stderr",
          "text": [
            "/usr/local/lib/python3.11/dist-packages/gymnasium/envs/registration.py:736: UserWarning: \u001b[33mWARN: The environment is being initialised with render_mode='rgb_arrary' that is not in the possible render_modes (['human', 'rgb_array']).\u001b[0m\n",
            "  logger.warn(\n"
          ]
        },
        {
          "output_type": "error",
          "ename": "AttributeError",
          "evalue": "'OrderEnforcing' object has no attribute 'min_position'",
          "traceback": [
            "\u001b[0;31m---------------------------------------------------------------------------\u001b[0m",
            "\u001b[0;31mAttributeError\u001b[0m                            Traceback (most recent call last)",
            "\u001b[0;32m<ipython-input-14-d2cbe81e8573>\u001b[0m in \u001b[0;36m<cell line: 0>\u001b[0;34m()\u001b[0m\n\u001b[1;32m     41\u001b[0m \u001b[0;34m\u001b[0m\u001b[0m\n\u001b[1;32m     42\u001b[0m \u001b[0;32mwith\u001b[0m \u001b[0mgym\u001b[0m\u001b[0;34m.\u001b[0m\u001b[0mmake\u001b[0m\u001b[0;34m(\u001b[0m\u001b[0;34m\"MountainCar-v0\"\u001b[0m\u001b[0;34m,\u001b[0m \u001b[0mrender_mode\u001b[0m\u001b[0;34m=\u001b[0m\u001b[0;34m\"rgb_arrary\"\u001b[0m\u001b[0;34m)\u001b[0m\u001b[0;34m.\u001b[0m\u001b[0menv\u001b[0m \u001b[0;32mas\u001b[0m \u001b[0menv\u001b[0m\u001b[0;34m:\u001b[0m\u001b[0;34m\u001b[0m\u001b[0;34m\u001b[0m\u001b[0m\n\u001b[0;32m---> 43\u001b[0;31m     \u001b[0mvisualize_mountain_car\u001b[0m\u001b[0;34m(\u001b[0m\u001b[0menv\u001b[0m\u001b[0;34m,\u001b[0m \u001b[0magent\u001b[0m\u001b[0;34m)\u001b[0m\u001b[0;34m\u001b[0m\u001b[0;34m\u001b[0m\u001b[0m\n\u001b[0m",
            "\u001b[0;32m<ipython-input-14-d2cbe81e8573>\u001b[0m in \u001b[0;36mvisualize_mountain_car\u001b[0;34m(env, agent)\u001b[0m\n\u001b[1;32m      1\u001b[0m \u001b[0;32mdef\u001b[0m \u001b[0mvisualize_mountain_car\u001b[0m\u001b[0;34m(\u001b[0m\u001b[0menv\u001b[0m\u001b[0;34m,\u001b[0m \u001b[0magent\u001b[0m\u001b[0;34m)\u001b[0m\u001b[0;34m:\u001b[0m\u001b[0;34m\u001b[0m\u001b[0;34m\u001b[0m\u001b[0m\n\u001b[1;32m      2\u001b[0m     \u001b[0;31m# Compute policy for all possible x and v (with discretization)\u001b[0m\u001b[0;34m\u001b[0m\u001b[0;34m\u001b[0m\u001b[0m\n\u001b[0;32m----> 3\u001b[0;31m     \u001b[0mxs\u001b[0m \u001b[0;34m=\u001b[0m \u001b[0mnp\u001b[0m\u001b[0;34m.\u001b[0m\u001b[0mlinspace\u001b[0m\u001b[0;34m(\u001b[0m\u001b[0menv\u001b[0m\u001b[0;34m.\u001b[0m\u001b[0mmin_position\u001b[0m\u001b[0;34m,\u001b[0m \u001b[0menv\u001b[0m\u001b[0;34m.\u001b[0m\u001b[0mmax_position\u001b[0m\u001b[0;34m,\u001b[0m \u001b[0;36m100\u001b[0m\u001b[0;34m)\u001b[0m\u001b[0;34m\u001b[0m\u001b[0;34m\u001b[0m\u001b[0m\n\u001b[0m\u001b[1;32m      4\u001b[0m     \u001b[0mvs\u001b[0m \u001b[0;34m=\u001b[0m \u001b[0mnp\u001b[0m\u001b[0;34m.\u001b[0m\u001b[0mlinspace\u001b[0m\u001b[0;34m(\u001b[0m\u001b[0;34m-\u001b[0m\u001b[0menv\u001b[0m\u001b[0;34m.\u001b[0m\u001b[0mmax_speed\u001b[0m\u001b[0;34m,\u001b[0m \u001b[0menv\u001b[0m\u001b[0;34m.\u001b[0m\u001b[0mmax_speed\u001b[0m\u001b[0;34m,\u001b[0m \u001b[0;36m100\u001b[0m\u001b[0;34m)\u001b[0m\u001b[0;34m\u001b[0m\u001b[0;34m\u001b[0m\u001b[0m\n\u001b[1;32m      5\u001b[0m \u001b[0;34m\u001b[0m\u001b[0m\n",
            "\u001b[0;31mAttributeError\u001b[0m: 'OrderEnforcing' object has no attribute 'min_position'"
          ]
        }
      ],
      "source": [
        "def visualize_mountain_car(env, agent):\n",
        "    # Compute policy for all possible x and v (with discretization)\n",
        "    xs = np.linspace(env.min_position, env.max_position, 100)\n",
        "    vs = np.linspace(-env.max_speed, env.max_speed, 100)\n",
        "\n",
        "    grid = np.dstack(np.meshgrid(xs, vs[::-1])).transpose(1, 0, 2)\n",
        "    grid_flat = grid.reshape(len(xs) * len(vs), 2)\n",
        "    probs = (\n",
        "        agent.predict_proba(grid_flat).reshape(len(xs), len(vs), 3).transpose(1, 0, 2)\n",
        "    )\n",
        "\n",
        "    # # The above code is equivalent to the following:\n",
        "    # probs = np.empty((len(vs), len(xs), 3))\n",
        "    # for i, v in enumerate(vs[::-1]):\n",
        "    #     for j, x in enumerate(xs):\n",
        "    #         probs[i, j, :] = agent.predict_proba([[x, v]])[0]\n",
        "\n",
        "    # Draw policy\n",
        "    f, ax = plt.subplots(figsize=(7, 7))\n",
        "    ax.imshow(\n",
        "        probs,\n",
        "        extent=(env.min_position, env.max_position, -env.max_speed, env.max_speed),\n",
        "        aspect=\"auto\",\n",
        "    )\n",
        "    ax.set_title(\"Learned policy: red=left, green=nothing, blue=right\")\n",
        "    ax.set_xlabel(\"position (x)\")\n",
        "    ax.set_ylabel(\"velocity (v)\")\n",
        "\n",
        "    # Sample a trajectory and draw it\n",
        "    states, actions, _ = generate_session(env, agent)\n",
        "    states = np.array(states)\n",
        "    ax.plot(states[:, 0], states[:, 1], color=\"white\")\n",
        "\n",
        "    # Draw every 3rd action from the trajectory\n",
        "    for (x, v), a in zip(states[::3], actions[::3]):\n",
        "        if a == 0:\n",
        "            plt.arrow(x, v, -0.1, 0, color=\"white\", head_length=0.02)\n",
        "        elif a == 2:\n",
        "            plt.arrow(x, v, 0.1, 0, color=\"white\", head_length=0.02)\n",
        "\n",
        "\n",
        "with gym.make(\"MountainCar-v0\", render_mode=\"rgb_arrary\").env as env:\n",
        "    visualize_mountain_car(env, agent)\n"
      ]
    },
    {
      "cell_type": "markdown",
      "metadata": {
        "id": "Dzk41lDPG9zO"
      },
      "source": [
        "### Bonus tasks\n",
        "\n",
        "* __2.3 bonus__ (2 pts) Try to find a network architecture and training params that solve __both__ environments above (_Points depend on implementation. If you attempted this task, please mention it in Anytask submission._)\n",
        "\n",
        "* __2.4 bonus__ (4 pts) Solve continuous action space task with `MLPRegressor` or similar.\n",
        "  * Since your agent only predicts the \"expected\" action, you will have to add noise to ensure exploration.\n",
        "  * Choose one of [MountainCarContinuous-v0](https://gymnasium.farama.org/environments/classic_control/mountain_car_continuous/) (90+ pts to solve), [LunarLanderContinuous-v2](https://gymnasium.farama.org/environments/box2d/lunar_lander/) (`env = gym.make(\"LunarLander-v2\", continuous=True)`)(200+ pts to solve)\n",
        "  * 4 points for solving. Slightly less for getting some results below solution threshold. Note that discrete and continuous environments may have slightly different rules, aside from action spaces."
      ]
    }
  ],
  "metadata": {
    "colab": {
      "provenance": [],
      "include_colab_link": true
    },
    "kernelspec": {
      "display_name": "Python 3",
      "language": "python",
      "name": "python3"
    },
    "language_info": {
      "codemirror_mode": {
        "name": "ipython",
        "version": 3
      },
      "file_extension": ".py",
      "mimetype": "text/x-python",
      "name": "python",
      "nbconvert_exporter": "python",
      "pygments_lexer": "ipython3",
      "version": "3.8.5"
    }
  },
  "nbformat": 4,
  "nbformat_minor": 0
}